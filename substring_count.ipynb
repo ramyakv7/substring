{
 "cells": [
  {
   "cell_type": "code",
   "execution_count": 13,
   "id": "00ce1cb6",
   "metadata": {},
   "outputs": [
    {
     "name": "stdout",
     "output_type": "stream",
     "text": [
      "Enter the String : ABCDCDC\n",
      "Enter the Substring : CD\n",
      "2\n"
     ]
    }
   ],
   "source": [
    "def count_string(string, substring):\n",
    "\n",
    "\n",
    "\n",
    "    count=0\n",
    "\n",
    "    for i in range(len(string)):\n",
    "\n",
    "       \n",
    "\n",
    "        if(string[i:].startswith(substring)):\n",
    "\n",
    "            count=count+1\n",
    "\n",
    "    return count\n",
    "\n",
    "\n",
    "\n",
    "s1=input(\"Enter the String : \")\n",
    "\n",
    "s2=input(\"Enter the Substring : \")\n",
    "\n",
    "print(count_string(s1,s2))"
   ]
  },
  {
   "cell_type": "code",
   "execution_count": null,
   "id": "f944dd61",
   "metadata": {},
   "outputs": [],
   "source": []
  }
 ],
 "metadata": {
  "kernelspec": {
   "display_name": "Python 3",
   "language": "python",
   "name": "python3"
  },
  "language_info": {
   "codemirror_mode": {
    "name": "ipython",
    "version": 3
   },
   "file_extension": ".py",
   "mimetype": "text/x-python",
   "name": "python",
   "nbconvert_exporter": "python",
   "pygments_lexer": "ipython3",
   "version": "3.8.8"
  }
 },
 "nbformat": 4,
 "nbformat_minor": 5
}
